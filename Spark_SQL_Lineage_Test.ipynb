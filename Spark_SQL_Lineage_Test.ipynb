{
 "cells": [
  {
   "cell_type": "code",
   "execution_count": 1,
   "metadata": {},
   "outputs": [],
   "source": [
    "from pyspark.sql import SparkSession\n",
    "from pyspark.sql import functions as F\n",
    "import os"
   ]
  },
  {
   "cell_type": "code",
   "execution_count": 2,
   "metadata": {},
   "outputs": [],
   "source": [
    "spark = SparkSession\\\n",
    "    .builder\\\n",
    "    .appName(\"PythonSQL\")\\\n",
    "    .config(\"spark.hadoop.fs.s3a.s3guard.ddb.region\",\"us-east-1\")\\\n",
    "    .config(\"spark.yarn.access.hadoopFileSystems\",\"s3a://demo-aws-1/\")\\\n",
    "    .config(\"spark.hadoop.yarn.resourcemanager.principal\",os.getenv(\"HADOOP_USER_NAME\"))\\\n",
    "    .getOrCreate()\n",
    "#.config(\"spark.hadoop.fs.s3a.s3guard.ddb.region\",\"us-east-2\")\\\n",
    "#    .config(\"spark.executor.instances\", 4)\\\n",
    "#    .config(\"spark.executor.cores\", 4)\\"
   ]
  },
  {
   "cell_type": "code",
   "execution_count": 3,
   "metadata": {},
   "outputs": [],
   "source": [
    "df = spark.read.option('inferschema','true').csv(\n",
    "  \"s3a://demo-aws-1/user/pauldefusco/LoanStats_2015_subset.csv\",\n",
    "  header=True,\n",
    "  sep=',',\n",
    "  nullValue='NA'\n",
    ")"
   ]
  },
  {
   "cell_type": "code",
   "execution_count": 4,
   "metadata": {},
   "outputs": [
    {
     "name": "stdout",
     "output_type": "stream",
     "text": [
      "+--------------------+\n",
      "|        databaseName|\n",
      "+--------------------+\n",
      "|  airline_ontime_orc|\n",
      "|airline_ontime_pa...|\n",
      "|        airline_temp|\n",
      "|         airlinedata|\n",
      "|                dbgr|\n",
      "|             default|\n",
      "|  information_schema|\n",
      "|     insurance_fraud|\n",
      "|       prescribing_o|\n",
      "|       prescribing_p|\n",
      "|     prescribing_p_e|\n",
      "|prescribing_p_e_d...|\n",
      "|          retaildemo|\n",
      "|         shlomi_test|\n",
      "|                 sys|\n",
      "|                test|\n",
      "|             test_dl|\n",
      "|            testuser|\n",
      "|            tutorial|\n",
      "|         ukcrime_dev|\n",
      "+--------------------+\n",
      "only showing top 20 rows\n",
      "\n"
     ]
    }
   ],
   "source": [
    "spark.sql(\"show databases\").show()"
   ]
  },
  {
   "cell_type": "code",
   "execution_count": 5,
   "metadata": {},
   "outputs": [],
   "source": [
    "df.write.format('parquet').mode(\"overwrite\").saveAsTable('default.spark_lineage_table_origin')"
   ]
  },
  {
   "cell_type": "code",
   "execution_count": 6,
   "metadata": {},
   "outputs": [
    {
     "name": "stdout",
     "output_type": "stream",
     "text": [
      "+--------------+--------------------+----------+--------+----------+----------------+----------------+-----------+--------------+-------+------------------------+--------------------------+-----------+-----------+----+-----+---------+----------------+----------+---------+-----------+---------------+-----+--------------+---+-------+-------------------+------+------------+--------------+-----------+--------+--------+---------+-----------+----------+---------+------------------+--------------------+---------------------+--------------+--------+----------------------+---------------------------+----------------------+------------------+--------------------+------------------------+---------------------+------------------------------+---------------------+--------------+---------------+-----------+---------+---------+-------------+-------------+-------------------+--------+----------------+------------+------------------+------------------+--------+-----------+-----------+-----------+-----------+-----------+-----------+--------------+----------------+-----------+-------+--------------------+------------------+---------+----------+---------+---------+----------+------------------+-----------+---------------+---------+-----------------+------------+--------------+-----------+--------------------------+----------------+-------------------+--------+---------------+------------------------+----------------------+----------------+----------------+------------------+-------------------+---------------------+--------------------------------+----------------------------------+-----------------------------------+\n",
      "|acc_now_delinq|acc_open_past_24mths|addr_state|all_util|annual_inc|annual_inc_joint|application_type|avg_cur_bal|bc_open_to_buy|bc_util|chargeoff_within_12_mths|collections_12_mths_ex_med|delinq_2yrs|delinq_amnt|desc|  dti|dti_joint|earliest_cr_line|emp_length|emp_title|funded_amnt|funded_amnt_inv|grade|home_ownership| id|il_util|initial_list_status|inq_fi|inq_last_12m|inq_last_6mths|installment|int_rate| issue_d|loan_amnt|loan_status|max_bal_bc|member_id|mo_sin_old_il_acct|mo_sin_old_rev_tl_op|mo_sin_rcnt_rev_tl_op|mo_sin_rcnt_tl|mort_acc|mths_since_last_delinq|mths_since_last_major_derog|mths_since_last_record|mths_since_rcnt_il|mths_since_recent_bc|mths_since_recent_bc_dlq|mths_since_recent_inq|mths_since_recent_revol_delinq|num_accts_ever_120_pd|num_actv_bc_tl|num_actv_rev_tl|num_bc_sats|num_bc_tl|num_il_tl|num_op_rev_tl|num_rev_accts|num_rev_tl_bal_gt_0|num_sats|num_tl_120dpd_2m|num_tl_30dpd|num_tl_90g_dpd_24m|num_tl_op_past_12m|open_acc|open_acc_6m|open_il_12m|open_il_24m|open_act_il|open_rv_12m|open_rv_24m|pct_tl_nvr_dlq|percent_bc_gt_75|policy_code|pub_rec|pub_rec_bankruptcies|           purpose|revol_bal|revol_util|sub_grade|tax_liens|      term|             title|tot_cur_bal|tot_hi_cred_lim|total_acc|total_bal_ex_mort|total_bal_il|total_bc_limit|total_cu_tl|total_il_high_credit_limit|total_rev_hi_lim|verification_status|zip_code|revol_bal_joint|sec_app_earliest_cr_line|sec_app_inq_last_6mths|sec_app_mort_acc|sec_app_open_acc|sec_app_revol_util|sec_app_open_act_il|sec_app_num_rev_accts|sec_app_chargeoff_within_12_mths|sec_app_collections_12_mths_ex_med|sec_app_mths_since_last_major_derog|\n",
      "+--------------+--------------------+----------+--------+----------+----------------+----------------+-----------+--------------+-------+------------------------+--------------------------+-----------+-----------+----+-----+---------+----------------+----------+---------+-----------+---------------+-----+--------------+---+-------+-------------------+------+------------+--------------+-----------+--------+--------+---------+-----------+----------+---------+------------------+--------------------+---------------------+--------------+--------+----------------------+---------------------------+----------------------+------------------+--------------------+------------------------+---------------------+------------------------------+---------------------+--------------+---------------+-----------+---------+---------+-------------+-------------+-------------------+--------+----------------+------------+------------------+------------------+--------+-----------+-----------+-----------+-----------+-----------+-----------+--------------+----------------+-----------+-------+--------------------+------------------+---------+----------+---------+---------+----------+------------------+-----------+---------------+---------+-----------------+------------+--------------+-----------+--------------------------+----------------+-------------------+--------+---------------+------------------------+----------------------+----------------+----------------+------------------+-------------------+---------------------+--------------------------------+----------------------------------+-----------------------------------+\n",
      "|             0|                   8|        KS|      42|   65000.0|            null|      Individual|      10086|         41055|   17.1|                       0|                         0|          0|          0|    |23.84|     null|        Nov-2003| 10+ years|  Teacher|      12000|        12000.0|    B|      MORTGAGE|   |     61|                  w|     0|           0|             0|     253.79|   9.80%|Dec-2015|    12000| Fully Paid|      7909|     null|               127|                 145|                    4|             1|       2|                  null|                       null|                  null|                 1|                   4|                    null|                   14|                          null|                    0|             2|              4|          5|       10|       13|           11|           22|                  4|      18|               0|           0|                 0|                 3|      18|          2|          2|          3|          6|          1|          5|         100.0|             0.0|          1|      0|                   0|debt_consolidation|     9786|     13.4%|       B3|        0| 60 months|Debt consolidation|     181540|         291626|       37|            74787|       65001|         49500|          0|                    105910|           73200|       Not Verified|   660xx|           null|                    null|                  null|            null|            null|              null|               null|                 null|                            null|                              null|                               null|\n",
      "+--------------+--------------------+----------+--------+----------+----------------+----------------+-----------+--------------+-------+------------------------+--------------------------+-----------+-----------+----+-----+---------+----------------+----------+---------+-----------+---------------+-----+--------------+---+-------+-------------------+------+------------+--------------+-----------+--------+--------+---------+-----------+----------+---------+------------------+--------------------+---------------------+--------------+--------+----------------------+---------------------------+----------------------+------------------+--------------------+------------------------+---------------------+------------------------------+---------------------+--------------+---------------+-----------+---------+---------+-------------+-------------+-------------------+--------+----------------+------------+------------------+------------------+--------+-----------+-----------+-----------+-----------+-----------+-----------+--------------+----------------+-----------+-------+--------------------+------------------+---------+----------+---------+---------+----------+------------------+-----------+---------------+---------+-----------------+------------+--------------+-----------+--------------------------+----------------+-------------------+--------+---------------+------------------------+----------------------+----------------+----------------+------------------+-------------------+---------------------+--------------------------------+----------------------------------+-----------------------------------+\n",
      "only showing top 1 row\n",
      "\n"
     ]
    }
   ],
   "source": [
    "df.show(1)"
   ]
  },
  {
   "cell_type": "code",
   "execution_count": 7,
   "metadata": {},
   "outputs": [],
   "source": [
    "df1 = spark.sql(\"select annual_inc, acc_now_delinq, acc_open_past_24mths, addr_state, all_util, annual_inc_joint from default.spark_lineage_table_origin limit 50\")"
   ]
  },
  {
   "cell_type": "code",
   "execution_count": 8,
   "metadata": {},
   "outputs": [],
   "source": [
    "df2 = spark.sql(\"select annual_inc, emp_length, emp_title, funded_amnt, funded_amnt_inv from default.spark_lineage_table_origin limit 59\")"
   ]
  },
  {
   "cell_type": "code",
   "execution_count": 9,
   "metadata": {},
   "outputs": [
    {
     "name": "stdout",
     "output_type": "stream",
     "text": [
      "+----------+--------------+--------------------+----------+--------+----------------+\n",
      "|annual_inc|acc_now_delinq|acc_open_past_24mths|addr_state|all_util|annual_inc_joint|\n",
      "+----------+--------------+--------------------+----------+--------+----------------+\n",
      "|   65000.0|             0|                   8|        KS|      42|            null|\n",
      "|  150000.0|             0|                   1|        VT|      34|            null|\n",
      "|   75000.0|             0|                   8|        IN|      50|            null|\n",
      "|  175000.0|             0|                   7|        OH|      71|            null|\n",
      "|   44000.0|             0|                   1|        FL|      91|            null|\n",
      "|  104000.0|             0|                   1|        OH|      52|            null|\n",
      "|   38000.0|             0|                   4|        OH|      30|            null|\n",
      "|  109000.0|             0|                   2|        VA|      57|            null|\n",
      "|   70000.0|             0|                   3|        MD|      41|            null|\n",
      "|   40000.0|             0|                   3|        NJ|      54|            null|\n",
      "|   70000.0|             0|                   3|        TX|      64|            null|\n",
      "|   92000.0|             0|                   1|        NC|      61|            null|\n",
      "|   50000.0|             0|                   6|        FL|      87|            null|\n",
      "|   55000.0|             0|                   4|        PA|      34|            null|\n",
      "|  112000.0|             0|                   5|        AZ|      38|            null|\n",
      "|   68046.0|             0|                   0|        VA|      80|            null|\n",
      "|   64000.0|             0|                   4|        NC|      67|            null|\n",
      "|   85000.0|             0|                   3|        MA|      35|            null|\n",
      "|   20000.0|             0|                   5|        MA|      33|            null|\n",
      "|   48000.0|             0|                   6|        SC|      65|            null|\n",
      "+----------+--------------+--------------------+----------+--------+----------------+\n",
      "only showing top 20 rows\n",
      "\n"
     ]
    }
   ],
   "source": [
    "df1.show()"
   ]
  },
  {
   "cell_type": "code",
   "execution_count": 10,
   "metadata": {},
   "outputs": [
    {
     "name": "stdout",
     "output_type": "stream",
     "text": [
      "+----------+----------+--------------------+-----------+---------------+\n",
      "|annual_inc|emp_length|           emp_title|funded_amnt|funded_amnt_inv|\n",
      "+----------+----------+--------------------+-----------+---------------+\n",
      "|   98500.0|   9 years|Senior Credit Ana...|      24000|        24000.0|\n",
      "|   50000.0|    1 year| Ocuppational The...|       9000|         9000.0|\n",
      "|   49920.0|   9 years|             Foreman|      17000|        17000.0|\n",
      "|   95028.0|       n/a|                    |      24225|        24225.0|\n",
      "|   50000.0|    1 year| Services Specialist|      16000|        16000.0|\n",
      "|   68000.0|       n/a|                    |      15000|        15000.0|\n",
      "|   24000.0|    1 year|Transport Specialist|       6000|         6000.0|\n",
      "|   35000.0|  < 1 year|Medical technologist|      12250|        12250.0|\n",
      "|   40000.0|   3 years|  Nursing Attendant |       4800|         4800.0|\n",
      "|   55000.0|    1 year|  Concrete Placement|      16000|        16000.0|\n",
      "|   96000.0|   7 years| Eucation Specialist|      15500|        15500.0|\n",
      "|   35000.0|   4 years|        Shift Leader|       3500|         3500.0|\n",
      "|  145000.0|   6 years|      Member Manager|      22800|        22800.0|\n",
      "|   84422.0| 10+ years|   Aircraft Mechanic|      32900|        32900.0|\n",
      "|   80000.0|   9 years|              driver|      30950|        30950.0|\n",
      "|   32000.0|    1 year|           Paralegal|       5000|         5000.0|\n",
      "|   40000.0|   7 years|               Buyer|      14000|        14000.0|\n",
      "|  118600.0|   2 years|Senior Project Le...|       7800|         7800.0|\n",
      "|   77000.0| 10+ years|      Wound Care LPN|      21000|        20975.0|\n",
      "|   42000.0|  < 1 year|             Manager|      10000|        10000.0|\n",
      "+----------+----------+--------------------+-----------+---------------+\n",
      "only showing top 20 rows\n",
      "\n"
     ]
    }
   ],
   "source": [
    "df2.show()"
   ]
  },
  {
   "cell_type": "code",
   "execution_count": 11,
   "metadata": {},
   "outputs": [],
   "source": [
    "df1.write.format('parquet').mode(\"overwrite\").saveAsTable('default.spark_lineage_table_left')"
   ]
  },
  {
   "cell_type": "code",
   "execution_count": 12,
   "metadata": {},
   "outputs": [],
   "source": [
    "df2.write.format('parquet').mode(\"overwrite\").saveAsTable('default.spark_lineage_table_right')"
   ]
  },
  {
   "cell_type": "code",
   "execution_count": 13,
   "metadata": {},
   "outputs": [],
   "source": [
    "df3 = spark.sql(\"select A.annual_inc, B.emp_length, B.emp_title from default.spark_lineage_table_left A inner join default.spark_lineage_table_right B on A.annual_inc = B.annual_inc\")\n"
   ]
  },
  {
   "cell_type": "code",
   "execution_count": 14,
   "metadata": {},
   "outputs": [
    {
     "data": {
      "text/plain": [
       "33"
      ]
     },
     "execution_count": 14,
     "metadata": {},
     "output_type": "execute_result"
    }
   ],
   "source": [
    "df3.count()"
   ]
  },
  {
   "cell_type": "code",
   "execution_count": 15,
   "metadata": {},
   "outputs": [],
   "source": [
    "df3.write.format('parquet').mode(\"overwrite\").saveAsTable('default.spark_lineage_table_joined')"
   ]
  },
  {
   "cell_type": "code",
   "execution_count": 17,
   "metadata": {},
   "outputs": [],
   "source": [
    "df4 = spark.sql(\"CREATE TABLE default.spark_lineage_final AS SELECT * FROM default.spark_lineage_table_joined\")"
   ]
  },
  {
   "cell_type": "code",
   "execution_count": 18,
   "metadata": {},
   "outputs": [
    {
     "data": {
      "text/plain": [
       "DataFrame[]"
      ]
     },
     "execution_count": 18,
     "metadata": {},
     "output_type": "execute_result"
    }
   ],
   "source": [
    "spark.sql(\"CREATE TABLE default.spark_lineage_test AS SELECT * FROM default.spark_lineage_table_joined\")"
   ]
  },
  {
   "cell_type": "code",
   "execution_count": 19,
   "metadata": {},
   "outputs": [
    {
     "data": {
      "text/plain": [
       "DataFrame[]"
      ]
     },
     "execution_count": 19,
     "metadata": {},
     "output_type": "execute_result"
    }
   ],
   "source": [
    "spark.sql(\"CREATE TABLE default.spark_lineage_new AS SELECT * FROM default.spark_lineage_final\")"
   ]
  },
  {
   "cell_type": "code",
   "execution_count": null,
   "metadata": {},
   "outputs": [],
   "source": [
    "#spark.sql(\"CREATE TABLE default.spark_test AS SELECT * FROM default.spark_lineage_final\")"
   ]
  }
 ],
 "metadata": {
  "kernelspec": {
   "display_name": "Python 3",
   "language": "python",
   "name": "python3"
  },
  "language_info": {
   "codemirror_mode": {
    "name": "ipython",
    "version": 3
   },
   "file_extension": ".py",
   "mimetype": "text/x-python",
   "name": "python",
   "nbconvert_exporter": "python",
   "pygments_lexer": "ipython3",
   "version": "3.6.10"
  }
 },
 "nbformat": 4,
 "nbformat_minor": 4
}
